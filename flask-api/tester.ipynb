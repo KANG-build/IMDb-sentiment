{
 "cells": [
  {
   "cell_type": "code",
   "execution_count": 8,
   "id": "3ddde608",
   "metadata": {
    "scrolled": false
   },
   "outputs": [
    {
     "name": "stdout",
     "output_type": "stream",
     "text": [
      "{'sentiment': 'positive', 'emoji': '😊'}\n",
      "{'sentiment': 'negative', 'emoji': '😞'}\n"
     ]
    }
   ],
   "source": [
    "from IMDb_classifier import classify_review\n",
    "\n",
    "positive_sentence = \"This movie was wonderful\"\n",
    "negative_sentence = \"This movie was terrible\"\n",
    "\n",
    "# 함수 호출\n",
    "result1 = classify_review(positive_sentence)\n",
    "result2 = classify_review(negative_sentence)\n",
    "\n",
    "# 결과 출력\n",
    "print(result1)\n",
    "print(result2)"
   ]
  },
  {
   "cell_type": "code",
   "execution_count": null,
   "id": "c9d3fb17",
   "metadata": {},
   "outputs": [],
   "source": []
  }
 ],
 "metadata": {
  "kernelspec": {
   "display_name": "Python 3 (ipykernel)",
   "language": "python",
   "name": "python3"
  },
  "language_info": {
   "codemirror_mode": {
    "name": "ipython",
    "version": 3
   },
   "file_extension": ".py",
   "mimetype": "text/x-python",
   "name": "python",
   "nbconvert_exporter": "python",
   "pygments_lexer": "ipython3",
   "version": "3.9.7"
  }
 },
 "nbformat": 4,
 "nbformat_minor": 5
}
